{
 "cells": [
  {
   "cell_type": "code",
   "execution_count": 1,
   "metadata": {},
   "outputs": [],
   "source": [
    "\n",
    "from bokeh.plotting import figure\n",
    "from bokeh.io import output_notebook, output_file, show\n",
    "from bokeh.sampledata.iris import flowers\n",
    "\n",
    "#Define the output file path\n",
    "output_file(\"iris.html\")\n",
    "\n",
    "#Create the figure object\n",
    "f = figure(title='Iris Morphology', plot_width=1100,plot_height=650, background_fill_color=\"olive\", background_fill_alpha=0.3)\n",
    "# f.plot_width=1100\n",
    "# f.plot_height=650\n",
    "# f.background_fill_color=\"olive\"\n",
    "# f.background_fill_alpha=0.3\n",
    "f.title.text_color = \"olive\"\n",
    "f.title.text_font = \"times\"\n",
    "f.title.text_font_style = \"bold\"\n",
    "f.title.text_font_size = \"36px\"\n",
    "\n",
    "#Style the axes\n",
    "f.xaxis.minor_tick_line_color=\"blue\"\n",
    "f.yaxis.major_label_orientation=\"vertical\"\n",
    "f.xaxis.visible=True\n",
    "f.xaxis.minor_tick_in=-6\n",
    "f.xaxis.axis_label=\"Petal Length\"\n",
    "f.yaxis.axis_label=\"Petal Width\"\n",
    "f.axis.axis_label_text_color=\"blue\"\n",
    "f.axis.major_label_text_color=\"orange\"\n",
    "\n",
    "#adding glyphs\n",
    "f.circle(x=flowers[\"petal_length\"], y=flowers[\"petal_width\"])\n",
    "\n",
    "#Save and show the figure\n",
    "show(f)\n"
   ]
  },
  {
   "cell_type": "code",
   "execution_count": null,
   "metadata": {},
   "outputs": [],
   "source": []
  },
  {
   "cell_type": "code",
   "execution_count": null,
   "metadata": {},
   "outputs": [],
   "source": []
  }
 ],
 "metadata": {
  "kernelspec": {
   "display_name": "Python 3",
   "language": "python",
   "name": "python3"
  },
  "language_info": {
   "codemirror_mode": {
    "name": "ipython",
    "version": 3
   },
   "file_extension": ".py",
   "mimetype": "text/x-python",
   "name": "python",
   "nbconvert_exporter": "python",
   "pygments_lexer": "ipython3",
   "version": "3.6.2"
  }
 },
 "nbformat": 4,
 "nbformat_minor": 2
}
